{
 "cells": [
  {
   "attachments": {},
   "cell_type": "markdown",
   "metadata": {},
   "source": [
    "# Optimization model\n",
    "\n",
    "* Objective function: to maximize or minimize \n",
    "* constraints (possibly empty)"
   ]
  },
  {
   "attachments": {},
   "cell_type": "markdown",
   "metadata": {},
   "source": [
    "### Knapsack Problem\n",
    "* maximum weight constraint on a knapsack that you can carry (constraint)\n",
    "* take as many stuff as you can carry\n",
    "* How do you choose which stuff to take and which to leave behind\n",
    "* Two variants of the problem\n",
    "    * 0/1 knapsack problem  (this lecture)\n",
    "        * take or not\n",
    "    * continuous or fractional knapsack problem (not interesting)\n",
    "        * A greedy algorithm can be used to take the best things you can find to take and stop when the limits are reached.\n"
   ]
  },
  {
   "attachments": {},
   "cell_type": "markdown",
   "metadata": {},
   "source": [
    "#### 0/1 knapsack problem\n",
    "* Each item is represented by a pair <value, weight>\n",
    "    *<$4, 12kg>\n",
    "* The knapsack can accomodate items with a total weight of no more than w (constraint)\n",
    "\n",
    "* A vector(array), i, on length n, presents the set of available items,\n",
    "    * each element of the vector is an item\n",
    "* A vector (v) of length n, is used to indicate whether or not items are taken. (v= items not taken. 1 or 0)\n",
    "    * V[i] =1 item I[i] is taken\n"
   ]
  },
  {
   "attachments": {},
   "cell_type": "markdown",
   "metadata": {},
   "source": [
    "#### Knapsack problem's objective function an contraints\n",
    "\n",
    "* find a V that maximizes   sum(V[i] * I[i]) value of all\n",
    "\n",
    "* subject to the constraint     sum(V[i] * I[i]) <= max weight"
   ]
  },
  {
   "attachments": {},
   "cell_type": "markdown",
   "metadata": {},
   "source": [
    "#### Brute Force Algorithm\n",
    "1. Enumerate all possible combinations of items\n",
    "    * Generate all subsets of the set of set of items\n",
    "    * I.e. Generate teh power set\n",
    "1. Remove all of the combinations whose total units exceeds the allowed weight\n",
    "\n",
    "1. From the remaining combinations, choose any one whose value is the largest.\n",
    "\n",
    "* not practical for large solutions"
   ]
  },
  {
   "attachments": {},
   "cell_type": "markdown",
   "metadata": {},
   "source": [
    "#### Greedy Algorithm (approximate)\n",
    "* Greeedy algortihm is practical\n",
    "    * While knapsack not full\n",
    "        * Put 'best' available item in knapsack\n",
    "* but what does best mean? could be either of the below\n",
    "    * most valuable\n",
    "    * least expensive\n",
    "    * highest value/unit"
   ]
  },
  {
   "attachments": {},
   "cell_type": "markdown",
   "metadata": {},
   "source": [
    "##### Example\n",
    "* bout to sit for a mean\n",
    "* you know how much you value diff foods like donuts more than apples\n",
    "* but you have a calorie budget\n",
    "* choosing what to eat is a knapsack problem"
   ]
  },
  {
   "cell_type": "code",
   "execution_count": 4,
   "metadata": {},
   "outputs": [
    {
     "name": "stdout",
     "output_type": "stream",
     "text": [
      "Wine: <89, 123>\n"
     ]
    }
   ],
   "source": [
    "#defin food class\n",
    "class Food(object):\n",
    "    def __init__(self, n, v, w):\n",
    "        self.name = n\n",
    "        self.value = v\n",
    "        self.calories = w\n",
    "\n",
    "    \n",
    "    def getValue(self):\n",
    "        return self.value\n",
    "    def getCost(self):\n",
    "        return self.calories\n",
    "    def density(self): #describe the value cost-weight ratio\n",
    "        return self.getValue()/self.getCost()\n",
    "    \n",
    "    def __str__(self) -> str:\n",
    "        return self.name + ': <' + str(self.value)\\\n",
    "        + ', ' + str(self.calories) + '>'\n",
    "    \n",
    "wine = Food('Wine', 89, 123)\n",
    "print(wine)"
   ]
  },
  {
   "cell_type": "code",
   "execution_count": 12,
   "metadata": {},
   "outputs": [],
   "source": [
    "# build Menu\n",
    "def buildMenu(names, values, calories):\n",
    "    \"\"\"names, values, calories lists of same length>\n",
    "    name a list of strings\n",
    "    values and calories lists of numbers returns list of Foods\"\"\"\n",
    "    menu = [] #menu is a list\n",
    "    for i in range(len(values)):\n",
    "        #create a Food object and then append it to the menu\n",
    "        menu.append(Food(names[i], values[i], calories[i]))\n",
    "    return menu\n"
   ]
  },
  {
   "cell_type": "code",
   "execution_count": 11,
   "metadata": {},
   "outputs": [
    {
     "name": "stdout",
     "output_type": "stream",
     "text": [
      "[<__main__.Food object at 0x0000021C63450F40>, <__main__.Food object at 0x0000021C63450E80>]\n"
     ]
    }
   ],
   "source": [
    "buildMenu(['food', 'water'], [5,4], [3,2])"
   ]
  },
  {
   "attachments": {},
   "cell_type": "markdown",
   "metadata": {},
   "source": [
    "#### sorted Function in Python\n",
    "* sorted(iterable, *, key= None, reverse = False)\n",
    "\n",
    "The value of the key parameter should be a function tht takes a single argument and returns a key to use for sorting purposes. this technique is fast because the key function is called exactly once for each input record."
   ]
  },
  {
   "cell_type": "code",
   "execution_count": 10,
   "metadata": {},
   "outputs": [],
   "source": [
    "string = sorted('This is a test string for the coming code'.split(), key=str.lower, reverse = False)"
   ]
  },
  {
   "cell_type": "code",
   "execution_count": 11,
   "metadata": {},
   "outputs": [
    {
     "data": {
      "text/plain": [
       "'a code coming for is string test the This'"
      ]
     },
     "execution_count": 11,
     "metadata": {},
     "output_type": "execute_result"
    }
   ],
   "source": [
    "\" \".join(string)"
   ]
  },
  {
   "cell_type": "code",
   "execution_count": 13,
   "metadata": {},
   "outputs": [
    {
     "data": {
      "text/plain": [
       "[('dylan', 'd', 6), ('john', 'a', 15), ('tim', 'd', 12)]"
      ]
     },
     "execution_count": 13,
     "metadata": {},
     "output_type": "execute_result"
    }
   ],
   "source": [
    "student_tuples = [('john', 'a',15), ('tim', 'd', 12), ('dylan', 'd', 6)]\n",
    "sorted(student_tuples) #first is compared in the tuples"
   ]
  },
  {
   "cell_type": "code",
   "execution_count": 20,
   "metadata": {},
   "outputs": [
    {
     "data": {
      "text/plain": [
       "[('dylan', 'A', 6), ('john', 'B', 15), ('tim', 'a', 12)]"
      ]
     },
     "execution_count": 20,
     "metadata": {},
     "output_type": "execute_result"
    }
   ],
   "source": [
    "student_tuples = [('john', 'B',15), ('tim', 'a', 12), ('dylan', 'A', 6)]\n",
    "sorted(student_tuples, key= lambda student: student[1]) #sort by age by setting key as index[2]"
   ]
  },
  {
   "attachments": {},
   "cell_type": "markdown",
   "metadata": {},
   "source": [
    "lambda function is an anonymous function\n",
    "\n",
    "a lambda function can take any number of arguments, but can only have one expression\n",
    "\n",
    "syntax : lambda argument(s) : expression"
   ]
  },
  {
   "cell_type": "code",
   "execution_count": 23,
   "metadata": {},
   "outputs": [
    {
     "name": "stdout",
     "output_type": "stream",
     "text": [
      "15\n",
      "30\n"
     ]
    }
   ],
   "source": [
    "x = lambda a: a + 10\n",
    "print(x(5))\n",
    "\n",
    "x = lambda a, b : a*b\n",
    "print(x(5,6))"
   ]
  },
  {
   "cell_type": "code",
   "execution_count": 29,
   "metadata": {},
   "outputs": [],
   "source": [
    "class Student:\n",
    "    def __init__(self, name, grade, age):\n",
    "        self.name = name\n",
    "        self.grade = grade\n",
    "        self.age = age\n",
    "    def getGrade(self):\n",
    "        return self.grade\n",
    "    def __repr__(self) -> str:\n",
    "        return repr((self.name, self.grade, self.age))"
   ]
  },
  {
   "cell_type": "code",
   "execution_count": 25,
   "metadata": {},
   "outputs": [
    {
     "data": {
      "text/plain": [
       "[('dave', 'B', 10), ('jane', 'B', 12), ('john', 'A', 15)]"
      ]
     },
     "execution_count": 25,
     "metadata": {},
     "output_type": "execute_result"
    }
   ],
   "source": [
    "student_objects = [\n",
    "    Student('john', 'A', 15),\n",
    "    Student('jane', 'B', 12),\n",
    "    Student('dave', 'B', 10),\n",
    "]\n",
    "sorted(student_objects, key = lambda student: student.age)"
   ]
  },
  {
   "cell_type": "code",
   "execution_count": 32,
   "metadata": {},
   "outputs": [
    {
     "data": {
      "text/plain": [
       "[('john', 'A', 15), ('jane', 'B', 12), ('dave', 'B', 10)]"
      ]
     },
     "execution_count": 32,
     "metadata": {},
     "output_type": "execute_result"
    }
   ],
   "source": [
    "student_objects = [\n",
    "    Student('john', 'A', 15),\n",
    "    Student('jane', 'B', 12),\n",
    "    Student('dave', 'B', 10),\n",
    "]\n",
    "sorted(student_objects, key =Student.getGrade) #can specify what to sort by with key word arg"
   ]
  },
  {
   "cell_type": "code",
   "execution_count": 33,
   "metadata": {},
   "outputs": [
    {
     "data": {
      "text/plain": [
       "\"[('john', 'A', 15), ('jane', 'B', 12), ('dave', 'B', 10)]\""
      ]
     },
     "execution_count": 33,
     "metadata": {},
     "output_type": "execute_result"
    }
   ],
   "source": [
    "repr(student_objects)"
   ]
  },
  {
   "attachments": {},
   "cell_type": "markdown",
   "metadata": {},
   "source": [
    "#### Greedy algorithm implimication "
   ]
  },
  {
   "cell_type": "code",
   "execution_count": 36,
   "metadata": {},
   "outputs": [],
   "source": [
    "def greedy(items, maxCost, keyFunction):\n",
    "    '''Assumes items a list, maxCost >=0,\n",
    "    keyFunction maps elements of items to numbers'''\n",
    "    #attention check sorted function documentation\n",
    "    itemsCopy = sorted(items, key= keyFunction, reverse=True) #reversed to have most val item at beginning\n",
    "\n",
    "    result = [] #items chosen \n",
    "\n",
    "    totalValue, totalCost = 0.0, 0.0  #total cost is total weight(calory for this example)\n",
    "\n",
    "    for item in itemsCopy:\n",
    "        if totalCost + item.getCost() <= maxCost:\n",
    "            result.append(item)\n",
    "            totalCost = item.getCost() + totalCost\n",
    "            totalValue = item.getValue() + totalValue\n",
    "    #same theory\n",
    "    # for i in range(len(itemsCopy)): #attention\n",
    "    #     if (totalCost + itemsCopy[i].getCost()) <= maxCost: #attention\n",
    "    #         result.append(itemsCopy[i])\n",
    "    #         totalCost += itemsCopy[i].getCost()\n",
    "    #         totalValue += itemsCopy[i].getValue()\n",
    "        \n",
    "    return (result, totalValue)"
   ]
  },
  {
   "cell_type": "code",
   "execution_count": 37,
   "metadata": {},
   "outputs": [],
   "source": [
    "def testGreedy(items, constraint, keyFunction):\n",
    "    taken, val = greedy(items, constraint, keyFunction)\n",
    "    print('Total value of items taken =', val)\n",
    "    for item in taken:\n",
    "        print('     ', item)\n",
    "    "
   ]
  },
  {
   "cell_type": "code",
   "execution_count": 39,
   "metadata": {},
   "outputs": [],
   "source": [
    "def testGreedys(foods, maxUnits):\n",
    "    print('Use greedy by value to allocate', maxUnits, 'calories')\n",
    "    testGreedy(foods, maxUnits, Food.getValue) #highest value\n",
    "    print('\\nUse greedy by cost to allocate', maxUnits, 'calories')\n",
    "    testGreedy(foods, maxUnits, lambda x: 1/Food.getCost(x)) # lambda gets lowest calorie\n",
    "    print('\\nUse greedy by density to allocate', maxUnits, 'Calories')\n",
    "    testGreedy(foods, maxUnits, Food.density) #how desirable it is"
   ]
  },
  {
   "cell_type": "code",
   "execution_count": 78,
   "metadata": {},
   "outputs": [
    {
     "name": "stdout",
     "output_type": "stream",
     "text": [
      "Use greedy by value to allocate 750 calories\n",
      "Total value of items taken = 253.0\n",
      "      fries: <98, 253>\n",
      "      apple: <82, 345>\n",
      "      cola: <73, 25>\n",
      "\n",
      "Use greedy by cost to allocate 750 calories\n",
      "Total value of items taken = 211.0\n",
      "      cola: <73, 25>\n",
      "      beer: <40, 215>\n",
      "      fries: <98, 253>\n",
      "\n",
      "Use greedy by density to allocate 750 Calories\n",
      "Total value of items taken = 245.0\n",
      "      cola: <73, 25>\n",
      "      fries: <98, 253>\n",
      "      wine: <74, 282>\n"
     ]
    }
   ],
   "source": [
    "values = [74, 40, 37, 61, 98, 73, 82, 55]\n",
    "calories = [282, 215, 461, 299, 253, 25, 345, 466]\n",
    "names = ['wine', 'beer','pizza', 'burger', 'fries', 'cola', 'apple', 'donut', 'cake']\n",
    "foods = buildMenu(names, values, calories) #each menu object\n",
    "testGreedys(foods, 750)"
   ]
  },
  {
   "attachments": {},
   "cell_type": "markdown",
   "metadata": {},
   "source": [
    "### Why different Answers\n",
    "* greedy approach cannot get the 'optimal' solution. Brute force can but long for big numbers\n"
   ]
  },
  {
   "cell_type": "code",
   "execution_count": 79,
   "metadata": {},
   "outputs": [
    {
     "name": "stdout",
     "output_type": "stream",
     "text": [
      "Use greedy by value to allocate 1000 calories\n",
      "Total value of items taken = 327.0\n",
      "      fries: <98, 253>\n",
      "      apple: <82, 345>\n",
      "      wine: <74, 282>\n",
      "      cola: <73, 25>\n",
      "\n",
      "Use greedy by cost to allocate 1000 calories\n",
      "Total value of items taken = 285.0\n",
      "      cola: <73, 25>\n",
      "      beer: <40, 215>\n",
      "      fries: <98, 253>\n",
      "      wine: <74, 282>\n",
      "\n",
      "Use greedy by density to allocate 1000 Calories\n",
      "Total value of items taken = 327.0\n",
      "      cola: <73, 25>\n",
      "      fries: <98, 253>\n",
      "      wine: <74, 282>\n",
      "      apple: <82, 345>\n"
     ]
    }
   ],
   "source": [
    "testGreedys(foods, 1000)"
   ]
  },
  {
   "attachments": {},
   "cell_type": "markdown",
   "metadata": {},
   "source": [
    "### Pros and cons of Greedy\n",
    "* easy to implemant\n",
    "*computationally efficient\n",
    "* but does not always yield the best solution\n",
    "* Do not even know how good the approximation is"
   ]
  },
  {
   "cell_type": "markdown",
   "metadata": {},
   "source": []
  }
 ],
 "metadata": {
  "kernelspec": {
   "display_name": "base",
   "language": "python",
   "name": "python3"
  },
  "language_info": {
   "codemirror_mode": {
    "name": "ipython",
    "version": 3
   },
   "file_extension": ".py",
   "mimetype": "text/x-python",
   "name": "python",
   "nbconvert_exporter": "python",
   "pygments_lexer": "ipython3",
   "version": "3.9.15"
  },
  "orig_nbformat": 4
 },
 "nbformat": 4,
 "nbformat_minor": 2
}
